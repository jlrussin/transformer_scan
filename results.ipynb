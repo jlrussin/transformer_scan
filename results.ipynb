{
 "cells": [
  {
   "cell_type": "markdown",
   "metadata": {},
   "source": [
    "# Results of experiments with transformer models on SCAN dataset"
   ]
  },
  {
   "cell_type": "code",
   "execution_count": 2,
   "metadata": {},
   "outputs": [],
   "source": [
    "import json\n",
    "import numpy as np\n",
    "import matplotlib.pyplot as plt"
   ]
  },
  {
   "cell_type": "markdown",
   "metadata": {},
   "source": [
    "Load all data into numpy array"
   ]
  },
  {
   "cell_type": "code",
   "execution_count": 3,
   "metadata": {},
   "outputs": [],
   "source": [
    "def load_runs(results_path,n_runs):\n",
    "    losses = []\n",
    "    train_accs = []\n",
    "    dev_accs = []\n",
    "    test_accs = []\n",
    "    for run in range(n_runs):\n",
    "        fn = results_path + str(run) + '.json'\n",
    "        with open(fn,'r') as f:\n",
    "            results = json.load(f)\n",
    "        losses.append(results['loss_data'])\n",
    "        train_accs.append(results['train_accs'])\n",
    "        dev_accs.append(results['dev_accs'])\n",
    "        test_accs.append(results['test_accs'])\n",
    "    losses = np.array(losses)\n",
    "    train_accs = np.array(train_accs)\n",
    "    dev_accs = np.array(dev_accs)\n",
    "    test_accs = np.array(test_accs)\n",
    "    return losses, train_accs, dev_accs, test_accs"
   ]
  },
  {
   "cell_type": "code",
   "execution_count": 4,
   "metadata": {},
   "outputs": [],
   "source": [
    "n_runs = 10"
   ]
  },
  {
   "cell_type": "code",
   "execution_count": 6,
   "metadata": {},
   "outputs": [],
   "source": [
    "results_path = '../results/transformer/train_defaults_simple'\n",
    "simple_losses, simple_train, simple_dev, simple_test = load_runs(results_path,n_runs)"
   ]
  },
  {
   "cell_type": "code",
   "execution_count": 8,
   "metadata": {},
   "outputs": [],
   "source": [
    "results_path = '../results/transformer/train_defaults_jump'\n",
    "jump_losses, jump_train, jump_dev, jump_test = load_runs(results_path,n_runs)"
   ]
  },
  {
   "cell_type": "markdown",
   "metadata": {},
   "source": [
    "Plot losses"
   ]
  },
  {
   "cell_type": "code",
   "execution_count": 9,
   "metadata": {},
   "outputs": [
    {
     "data": {
      "image/png": "[encoded data removed]",
      "text/plain": [
       "<Figure size 432x288 with 1 Axes>"
      ]
     },
     "metadata": {
      "needs_background": "light"
     },
     "output_type": "display_data"
    }
   ],
   "source": [
    "simple_losses_ave = np.mean(simple_losses,axis=0)\n",
    "jump_losses_ave = np.mean(jump_losses,axis=0)\n",
    "plt.plot(simple_losses_ave)\n",
    "plt.plot(jump_losses_ave)\n",
    "plt.xlabel('Iteration (batch size = 32)')\n",
    "plt.ylabel('Cross entropy loss')\n",
    "plt.title('Training curves')\n",
    "plt.legend(['Simple','AddJump'])\n",
    "plt.show()"
   ]
  },
  {
   "cell_type": "markdown",
   "metadata": {},
   "source": [
    "Plot test accuracy"
   ]
  },
  {
   "cell_type": "code",
   "execution_count": 11,
   "metadata": {},
   "outputs": [],
   "source": [
    "simple_train_ave = np.mean([np.max(simple_train[i,:]) for i in range(n_runs)])\n",
    "jump_train_ave = np.mean([np.max(jump_train[i,:]) for i in range(n_runs)])\n",
    "simple_dev_ave = np.mean([np.max(simple_dev[i,:]) for i in range(n_runs)])\n",
    "jump_dev_ave = np.mean([np.max(jump_dev[i,:]) for i in range(n_runs)])\n",
    "simple_test_ave = np.mean([np.max(simple_test[i,:]) for i in range(n_runs)])\n",
    "jump_test_ave = np.mean([np.max(jump_test[i,:]) for i in range(n_runs)])"
   ]
  },
  {
   "cell_type": "code",
   "execution_count": 15,
   "metadata": {},
   "outputs": [],
   "source": [
    "simple_train_std = np.std([np.max(simple_train[i,:]) for i in range(n_runs)])\n",
    "jump_train_std = np.std([np.max(jump_train[i,:]) for i in range(n_runs)])\n",
    "simple_dev_std = np.std([np.max(simple_dev[i,:]) for i in range(n_runs)])\n",
    "jump_dev_std = np.std([np.max(jump_dev[i,:]) for i in range(n_runs)])\n",
    "simple_test_std = np.std([np.max(simple_test[i,:]) for i in range(n_runs)])\n",
    "jump_test_std = np.std([np.max(jump_test[i,:]) for i in range(n_runs)])\n",
    "train_std = [simple_train_std, jump_train_std]\n",
    "dev_std = [simple_dev_std, jump_dev_std]\n",
    "test_std = [simple_test_std, jump_test_std]"
   ]
  },
  {
   "cell_type": "code",
   "execution_count": 16,
   "metadata": {},
   "outputs": [
    {
     "data": {
      "image/png": "[encoded data removed]",
      "text/plain": [
       "<Figure size 432x288 with 1 Axes>"
      ]
     },
     "metadata": {
      "needs_background": "light"
     },
     "output_type": "display_data"
    }
   ],
   "source": [
    "c = np.array([0,1])\n",
    "w = 0.3\n",
    "\n",
    "plt.bar(c-w,[simple_train_ave,jump_train_ave],yerr=train_std,width=w)\n",
    "plt.bar(c,[simple_dev_ave,jump_dev_ave],yerr=dev_std,width=w)\n",
    "plt.bar(c+w,[simple_test_ave,jump_test_ave],yerr=test_std,width=w)\n",
    "plt.xticks(c,['Simple','AddJump'])\n",
    "plt.ylabel('Accuracy')\n",
    "plt.title('Performance')\n",
    "plt.legend(['train','dev','test'],loc=[0.82,0.5])\n",
    "plt.show()"
   ]
  },
  {
   "cell_type": "code",
   "execution_count": 25,
   "metadata": {},
   "outputs": [
    {
     "name": "stdout",
     "output_type": "stream",
     "text": [
      "1.0 0.0\n"
     ]
    }
   ],
   "source": [
    "print(simple_train_ave, simple_train_std)"
   ]
  },
  {
   "cell_type": "code",
   "execution_count": 26,
   "metadata": {},
   "outputs": [
    {
     "name": "stdout",
     "output_type": "stream",
     "text": [
      "0.9999701046337817 8.968609865470655e-05\n"
     ]
    }
   ],
   "source": [
    "print(simple_dev_ave, simple_dev_std)"
   ]
  },
  {
   "cell_type": "code",
   "execution_count": 28,
   "metadata": {},
   "outputs": [
    {
     "name": "stdout",
     "output_type": "stream",
     "text": [
      "0.9999760879961741 7.17360114777632e-05\n"
     ]
    }
   ],
   "source": [
    "print(simple_test_ave, simple_test_std)"
   ]
  },
  {
   "cell_type": "code",
   "execution_count": 29,
   "metadata": {},
   "outputs": [
    {
     "name": "stdout",
     "output_type": "stream",
     "text": [
      "1.0 0.0\n"
     ]
    }
   ],
   "source": [
    "print(jump_train_ave, jump_train_std)"
   ]
  },
  {
   "cell_type": "code",
   "execution_count": 30,
   "metadata": {},
   "outputs": [
    {
     "name": "stdout",
     "output_type": "stream",
     "text": [
      "1.0 0.0\n"
     ]
    }
   ],
   "source": [
    "print(jump_dev_ave, jump_dev_std)"
   ]
  },
  {
   "cell_type": "code",
   "execution_count": 31,
   "metadata": {},
   "outputs": [
    {
     "name": "stdout",
     "output_type": "stream",
     "text": [
      "0.18120944718401244 0.2112169570818004\n"
     ]
    }
   ],
   "source": [
    "print(jump_test_ave, jump_test_std)"
   ]
  },
  {
   "cell_type": "code",
   "execution_count": 33,
   "metadata": {},
   "outputs": [
    {
     "data": {
      "text/plain": [
       "0.6667531793407734"
      ]
     },
     "execution_count": 33,
     "metadata": {},
     "output_type": "execute_result"
    }
   ],
   "source": [
    "np.max([np.max(jump_test[i,:]) for i in range(n_runs)])"
   ]
  },
  {
   "cell_type": "code",
   "execution_count": null,
   "metadata": {},
   "outputs": [],
   "source": []
  }
 ],
 "metadata": {
  "kernelspec": {
   "display_name": "Python 3",
   "language": "python",
   "name": "python3"
  },
  "language_info": {
   "codemirror_mode": {
    "name": "ipython",
    "version": 3
   },
   "file_extension": ".py",
   "mimetype": "text/x-python",
   "name": "python",
   "nbconvert_exporter": "python",
   "pygments_lexer": "ipython3",
   "version": "3.6.8"
  }
 },
 "nbformat": 4,
 "nbformat_minor": 2
}
